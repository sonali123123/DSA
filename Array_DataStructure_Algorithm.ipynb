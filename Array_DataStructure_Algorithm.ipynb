{
  "nbformat": 4,
  "nbformat_minor": 0,
  "metadata": {
    "colab": {
      "provenance": []
    },
    "kernelspec": {
      "name": "python3",
      "display_name": "Python 3"
    },
    "language_info": {
      "name": "python"
    }
  },
  "cells": [
    {
      "cell_type": "markdown",
      "source": [
        "**Aaray Data Structure**"
      ],
      "metadata": {
        "id": "gA4JmEdg1EUC"
      }
    },
    {
      "cell_type": "code",
      "execution_count": null,
      "metadata": {
        "id": "FFpPols1KZAO"
      },
      "outputs": [],
      "source": [
        "arr = [2,1,8,9,12,15,11,19]\n"
      ]
    },
    {
      "cell_type": "code",
      "source": [
        "## Excess element in an array\n",
        "\n",
        "arr[4]"
      ],
      "metadata": {
        "colab": {
          "base_uri": "https://localhost:8080/"
        },
        "id": "1puYNV1a1Y37",
        "outputId": "c67fa304-c9bb-4a03-8322-649aa4191453"
      },
      "execution_count": null,
      "outputs": [
        {
          "output_type": "execute_result",
          "data": {
            "text/plain": [
              "12"
            ]
          },
          "metadata": {},
          "execution_count": 2
        }
      ]
    },
    {
      "cell_type": "code",
      "source": [
        "## Search for an element 15 and if its present in an array return the index , suppose searching element is not present return -1\n",
        "## Overall time complexity : O(n)\n",
        "## Space Complexity : O(1)  (we are not using any space here so it will be constant)\n",
        "\n",
        "def linearSearch(arr,x):\n",
        "  for i in range(len(arr)):\n",
        "    if arr[i]==x:\n",
        "      return i\n",
        "    return -1\n",
        "\n",
        "\n",
        "## Driver Code\n",
        "arr = [2,1,8,9,12,15,11,19]\n",
        "x = 15\n",
        "## Function calling\n",
        "result = linearSearch(arr,x)\n",
        "print(result)\n",
        "\n"
      ],
      "metadata": {
        "colab": {
          "base_uri": "https://localhost:8080/"
        },
        "id": "06Y3WjZx1f15",
        "outputId": "b67aa3c0-5e4a-496e-cc9b-1f7b01887053"
      },
      "execution_count": null,
      "outputs": [
        {
          "output_type": "stream",
          "name": "stdout",
          "text": [
            "-1\n"
          ]
        }
      ]
    },
    {
      "cell_type": "code",
      "source": [
        "## Insert an element 5 at index 2\n",
        "## Time Complexity : O(n)\n",
        "arr.insert(2,5)"
      ],
      "metadata": {
        "id": "uvn9u0WS1rxC"
      },
      "execution_count": null,
      "outputs": []
    },
    {
      "cell_type": "code",
      "source": [
        "arr"
      ],
      "metadata": {
        "colab": {
          "base_uri": "https://localhost:8080/"
        },
        "id": "Od7Lxtxe2zXu",
        "outputId": "9da97976-3689-44f6-aa0d-640b4042ec21"
      },
      "execution_count": null,
      "outputs": [
        {
          "output_type": "execute_result",
          "data": {
            "text/plain": [
              "[2, 1, 5, 8, 9, 12, 15, 11, 19]"
            ]
          },
          "metadata": {},
          "execution_count": 7
        }
      ]
    },
    {
      "cell_type": "code",
      "source": [
        "## Remove an element 8 from the array\n",
        "## Time Complexity : O(n)\n",
        "arr.remove(8)"
      ],
      "metadata": {
        "id": "HEKhLnfm20Hi"
      },
      "execution_count": null,
      "outputs": []
    },
    {
      "cell_type": "code",
      "source": [
        "## How many 2 occur in an array\n",
        "\n",
        "arr.count(2)"
      ],
      "metadata": {
        "colab": {
          "base_uri": "https://localhost:8080/"
        },
        "id": "PLmD-2SW3MEr",
        "outputId": "48c485b8-4c6c-4056-eedb-5c939c4b0113"
      },
      "execution_count": null,
      "outputs": [
        {
          "output_type": "execute_result",
          "data": {
            "text/plain": [
              "1"
            ]
          },
          "metadata": {},
          "execution_count": 9
        }
      ]
    },
    {
      "cell_type": "code",
      "source": [
        "## How to permanently delete the element providing the index\n",
        "\n",
        "arr.pop(4)"
      ],
      "metadata": {
        "colab": {
          "base_uri": "https://localhost:8080/"
        },
        "id": "5IqHiuzj3RAB",
        "outputId": "6eca0449-4c6c-4dc1-ee70-842f7d8dcc22"
      },
      "execution_count": null,
      "outputs": [
        {
          "output_type": "execute_result",
          "data": {
            "text/plain": [
              "12"
            ]
          },
          "metadata": {},
          "execution_count": 10
        }
      ]
    },
    {
      "cell_type": "code",
      "source": [
        "arr"
      ],
      "metadata": {
        "colab": {
          "base_uri": "https://localhost:8080/"
        },
        "id": "n80qykhn3aVs",
        "outputId": "6cae0281-2ca9-4ee7-c4fe-a25a8a54737f"
      },
      "execution_count": null,
      "outputs": [
        {
          "output_type": "execute_result",
          "data": {
            "text/plain": [
              "[2, 1, 5, 9, 15, 11, 19]"
            ]
          },
          "metadata": {},
          "execution_count": 11
        }
      ]
    },
    {
      "cell_type": "code",
      "source": [
        "## Sort the array\n",
        "\n",
        "arr.sort()"
      ],
      "metadata": {
        "id": "bUek-Fk13bno"
      },
      "execution_count": null,
      "outputs": []
    },
    {
      "cell_type": "code",
      "source": [
        "arr"
      ],
      "metadata": {
        "colab": {
          "base_uri": "https://localhost:8080/"
        },
        "id": "CPPWtQYP3fdD",
        "outputId": "ed419f3c-0905-41ff-c098-ae282cc8abc6"
      },
      "execution_count": null,
      "outputs": [
        {
          "output_type": "execute_result",
          "data": {
            "text/plain": [
              "[1, 2, 5, 9, 11, 15, 19]"
            ]
          },
          "metadata": {},
          "execution_count": 13
        }
      ]
    },
    {
      "cell_type": "markdown",
      "source": [
        "**Implementation of Binary Search WITH RECURSION**"
      ],
      "metadata": {
        "id": "A6heaNy039L6"
      }
    },
    {
      "cell_type": "code",
      "source": [
        "def binarySearch(arr,i,j,x):\n",
        "  while i<=j:\n",
        "     mid = i +(j-i)//2\n",
        "     if arr[mid]==x:\n",
        "      return mid\n",
        "     elif arr[mid]<x:\n",
        "      return binarySearch(arr,mid+1,j,x)\n",
        "     elif arr[mid]>x:\n",
        "      return binarySearch(arr,i,mid-1,x)\n",
        "  return -1\n",
        "\n",
        " ## Driver Code\n",
        "arr= [2,5,10,14,18,56,59,60]\n",
        "i = 0\n",
        "j = len(arr)-1\n",
        "x = 18\n",
        "## Calling Function\n",
        "result = binarySearch(arr,i,j,x)\n",
        "print(result)"
      ],
      "metadata": {
        "colab": {
          "base_uri": "https://localhost:8080/"
        },
        "id": "gr8Ak8VHrhnS",
        "outputId": "04e466a5-03bf-49d3-91e4-e0bf25e58819"
      },
      "execution_count": 2,
      "outputs": [
        {
          "output_type": "stream",
          "name": "stdout",
          "text": [
            "4\n"
          ]
        }
      ]
    },
    {
      "cell_type": "markdown",
      "source": [
        "**Implementation of Binary search without using recursion**"
      ],
      "metadata": {
        "id": "tCpsiE-YBUY4"
      }
    },
    {
      "cell_type": "code",
      "source": [
        "## Time complexity O(logn)\n",
        "##Function Definition\n",
        "def binarySearch(arr,i,j,x):\n",
        "  while i<=j:\n",
        "    mid = i+(j-1)//2\n",
        "    if arr[mid]==x:\n",
        "      return mid\n",
        "    elif arr[mid]<x:\n",
        "      ## update the parameter\n",
        "      i=mid+1\n",
        "    else:\n",
        "     ##update j parameter\n",
        "     j=mid-1\n",
        "  # searching element is not present\n",
        "  return -1\n",
        "\n",
        "## Driver code\n",
        "## Sorted array\n",
        "arr= [2,5,10,14,18,56,59,60]\n",
        "x = 18\n",
        "i=0\n",
        "j=len(arr)-1\n",
        "## Function call\n",
        "result = binarySearch(arr,i,j,x)\n",
        "print(result)"
      ],
      "metadata": {
        "colab": {
          "base_uri": "https://localhost:8080/",
          "height": 339
        },
        "id": "PR4hBvF5BIa3",
        "outputId": "91b6f481-0c65-45b9-ee00-e9e093590af9"
      },
      "execution_count": null,
      "outputs": [
        {
          "output_type": "error",
          "ename": "KeyboardInterrupt",
          "evalue": "ignored",
          "traceback": [
            "\u001b[0;31m---------------------------------------------------------------------------\u001b[0m",
            "\u001b[0;31mKeyboardInterrupt\u001b[0m                         Traceback (most recent call last)",
            "\u001b[0;32m<ipython-input-3-968df384e3c9>\u001b[0m in \u001b[0;36m<cell line: 24>\u001b[0;34m()\u001b[0m\n\u001b[1;32m     22\u001b[0m \u001b[0mj\u001b[0m\u001b[0;34m=\u001b[0m\u001b[0mlen\u001b[0m\u001b[0;34m(\u001b[0m\u001b[0marr\u001b[0m\u001b[0;34m)\u001b[0m\u001b[0;34m-\u001b[0m\u001b[0;36m1\u001b[0m\u001b[0;34m\u001b[0m\u001b[0;34m\u001b[0m\u001b[0m\n\u001b[1;32m     23\u001b[0m \u001b[0;31m## Function call\u001b[0m\u001b[0;34m\u001b[0m\u001b[0;34m\u001b[0m\u001b[0m\n\u001b[0;32m---> 24\u001b[0;31m \u001b[0mresult\u001b[0m \u001b[0;34m=\u001b[0m \u001b[0mbinarySearch\u001b[0m\u001b[0;34m(\u001b[0m\u001b[0marr\u001b[0m\u001b[0;34m,\u001b[0m\u001b[0mi\u001b[0m\u001b[0;34m,\u001b[0m\u001b[0mj\u001b[0m\u001b[0;34m,\u001b[0m\u001b[0mx\u001b[0m\u001b[0;34m)\u001b[0m\u001b[0;34m\u001b[0m\u001b[0;34m\u001b[0m\u001b[0m\n\u001b[0m\u001b[1;32m     25\u001b[0m \u001b[0mprint\u001b[0m\u001b[0;34m(\u001b[0m\u001b[0mresult\u001b[0m\u001b[0;34m)\u001b[0m\u001b[0;34m\u001b[0m\u001b[0;34m\u001b[0m\u001b[0m\n",
            "\u001b[0;32m<ipython-input-3-968df384e3c9>\u001b[0m in \u001b[0;36mbinarySearch\u001b[0;34m(arr, i, j, x)\u001b[0m\n\u001b[1;32m      4\u001b[0m   \u001b[0;32mwhile\u001b[0m \u001b[0mi\u001b[0m\u001b[0;34m<=\u001b[0m\u001b[0mj\u001b[0m\u001b[0;34m:\u001b[0m\u001b[0;34m\u001b[0m\u001b[0;34m\u001b[0m\u001b[0m\n\u001b[1;32m      5\u001b[0m     \u001b[0mmid\u001b[0m \u001b[0;34m=\u001b[0m \u001b[0mi\u001b[0m\u001b[0;34m+\u001b[0m\u001b[0;34m(\u001b[0m\u001b[0mj\u001b[0m\u001b[0;34m-\u001b[0m\u001b[0;36m1\u001b[0m\u001b[0;34m)\u001b[0m\u001b[0;34m//\u001b[0m\u001b[0;36m2\u001b[0m\u001b[0;34m\u001b[0m\u001b[0;34m\u001b[0m\u001b[0m\n\u001b[0;32m----> 6\u001b[0;31m     \u001b[0;32mif\u001b[0m \u001b[0marr\u001b[0m\u001b[0;34m[\u001b[0m\u001b[0mmid\u001b[0m\u001b[0;34m]\u001b[0m\u001b[0;34m==\u001b[0m\u001b[0mx\u001b[0m\u001b[0;34m:\u001b[0m\u001b[0;34m\u001b[0m\u001b[0;34m\u001b[0m\u001b[0m\n\u001b[0m\u001b[1;32m      7\u001b[0m       \u001b[0;32mreturn\u001b[0m \u001b[0mmid\u001b[0m\u001b[0;34m\u001b[0m\u001b[0;34m\u001b[0m\u001b[0m\n\u001b[1;32m      8\u001b[0m     \u001b[0;32melif\u001b[0m \u001b[0marr\u001b[0m\u001b[0;34m[\u001b[0m\u001b[0mmid\u001b[0m\u001b[0;34m]\u001b[0m\u001b[0;34m<\u001b[0m\u001b[0mx\u001b[0m\u001b[0;34m:\u001b[0m\u001b[0;34m\u001b[0m\u001b[0;34m\u001b[0m\u001b[0m\n",
            "\u001b[0;31mKeyboardInterrupt\u001b[0m: "
          ]
        }
      ]
    },
    {
      "cell_type": "code",
      "source": [
        "## Time Complexity O(logn)\n",
        "\n",
        "def binarySearch(arr,i,j,x):\n",
        "  while i<=j:\n",
        "    mid = i + (j-i)//2\n",
        "    if arr[mid]==x:\n",
        "      return mid\n",
        "    elif arr[mid]<x:\n",
        "      ##update i parameter\n",
        "      i = mid+1\n",
        "    elif arr[mid]>x:\n",
        "      ## update j parameter\n",
        "      j = mid-1\n",
        "  return -1\n",
        "\n",
        "## Driver Code\n",
        "arr = [2,5,10,14,18,56,59,60]\n",
        "i = 0\n",
        "j = len(arr)-1\n",
        "x = 14\n",
        "\n",
        "## Calling Function\n",
        "result = binarySearch(arr,i,j,x)\n",
        "print(result)"
      ],
      "metadata": {
        "colab": {
          "base_uri": "https://localhost:8080/"
        },
        "id": "VeVk-YrGtWBp",
        "outputId": "c11436e9-84f5-44b2-bf91-1f29ff6c1bcf"
      },
      "execution_count": 3,
      "outputs": [
        {
          "output_type": "stream",
          "name": "stdout",
          "text": [
            "3\n"
          ]
        }
      ]
    },
    {
      "cell_type": "markdown",
      "source": [
        "**Search 2D matrix**"
      ],
      "metadata": {
        "id": "mZ_lYiFkD4cg"
      }
    },
    {
      "cell_type": "code",
      "source": [
        "def searchSortedMatrix(matrix,target):\n",
        "  ##number of rows\n",
        "  ## row_num = indx//n\n",
        "  ## colum_num = indx%n\n",
        "  m = len(matrix)\n",
        "  if m==0:\n",
        "    return False\n",
        "  ## number of columns\n",
        "  n = len(matrix[0])\n",
        "\n",
        "  left,right = 0, m*n-1\n",
        "  while left<=right:\n",
        "    mid = left +(right-left)//2\n",
        "    mid_element = matrix[mid//n][mid%n]\n",
        "    if target == mid_element:\n",
        "      return True\n",
        "    elif target<mid_element:\n",
        "      right = mid-1\n",
        "    else:\n",
        "      left = mid+1\n",
        "  return False\n",
        "\n",
        "\n",
        "\n",
        "\n",
        "\n",
        "\n",
        "##Driver Code\n",
        "matrix = [[1,3,5,7],[10,11,16,20],[23,30,34,60]]\n",
        "target = 12\n",
        "## function calling\n",
        "result = searchSortedMatrix(matrix,target)\n",
        "print(result)"
      ],
      "metadata": {
        "colab": {
          "base_uri": "https://localhost:8080/"
        },
        "id": "MucIrn9oFxNN",
        "outputId": "33a8b027-99d2-4afe-d75f-71e545eff8b2"
      },
      "execution_count": null,
      "outputs": [
        {
          "output_type": "stream",
          "name": "stdout",
          "text": [
            "False\n"
          ]
        }
      ]
    },
    {
      "cell_type": "markdown",
      "source": [
        "**bold Ternary Search**"
      ],
      "metadata": {
        "id": "8Blu8fzeKjPT"
      }
    },
    {
      "cell_type": "code",
      "source": [
        "def ternarySearch(l,r,x,arr):\n",
        "  while l<=r:\n",
        "    mid1 = l + (r-l)//3\n",
        "    mid2 = r - (r-l)//3\n",
        "\n",
        "    if x==arr[mid1]:\n",
        "      return mid1\n",
        "    elif x==arr[mid2]:\n",
        "      return mid2\n",
        "    elif x<arr[mid1]:\n",
        "      return ternarySearch(l,mid1-1,x,arr)\n",
        "    elif x>arr[mid2]:\n",
        "      return ternarySearch(mid2+1,r,x,arr)\n",
        "    else:\n",
        "      return ternarySearch(mid1+1,mid2-1,x,arr)\n",
        "  return -1\n",
        "\n",
        "\n",
        "\n",
        "## driver code\n",
        "arr = [1,2,3,4,5,6,7,8,9,10]\n",
        "l=0\n",
        "r=len(arr)-1\n",
        "x=20\n",
        "##function calling\n",
        "result = ternarySearch(l,r,x,arr)\n",
        "print(result)"
      ],
      "metadata": {
        "colab": {
          "base_uri": "https://localhost:8080/"
        },
        "id": "MvhUNrSSHKuk",
        "outputId": "ca560635-53fc-41ad-9e82-aa380c3798a6"
      },
      "execution_count": null,
      "outputs": [
        {
          "output_type": "stream",
          "name": "stdout",
          "text": [
            "-1\n"
          ]
        }
      ]
    },
    {
      "cell_type": "markdown",
      "source": [
        "**Implementation of Bubble Sort**"
      ],
      "metadata": {
        "id": "7WBcTWKoR0qG"
      }
    },
    {
      "cell_type": "code",
      "source": [
        "def bubbleSort(arr):\n",
        "  n=len(arr)\n",
        "  for i in range(n):\n",
        "    for j in range(n-i-1):\n",
        "      if arr[j]>arr[j+1l]:\n",
        "        ##swap of the elements\n",
        "        arr[j],arr[j+1]=arr[j+1],arr[j]\n",
        "  return arr\n",
        "\n",
        "\n",
        "## Driver code\n",
        "arr=[70,20,50,50,30,90,5,15]\n",
        "result = bubbleSort(arr)\n",
        "print(result)"
      ],
      "metadata": {
        "colab": {
          "base_uri": "https://localhost:8080/"
        },
        "id": "5Qb9oXAoLuCw",
        "outputId": "28698bab-5c5b-4ecd-aacb-5b9f6f4bdb2c"
      },
      "execution_count": null,
      "outputs": [
        {
          "output_type": "stream",
          "name": "stdout",
          "text": [
            "[5, 15, 20, 30, 50, 50, 70, 90]\n"
          ]
        }
      ]
    },
    {
      "cell_type": "markdown",
      "source": [
        "**Implementation of Selection Sort**"
      ],
      "metadata": {
        "id": "bSaw-jL0ayZy"
      }
    },
    {
      "cell_type": "code",
      "source": [
        "## Function\n",
        "def selectionSort(arr):\n",
        "  n=len(arr)\n",
        "  for i in range(n):\n",
        "    min_indx = i   ##store the index of minimum element\n",
        "    for j in range(i+1,n):\n",
        "      if arr[j]<arr[min_indx]:\n",
        "        min_indx=j\n",
        "    ##swap of the element at i and min_indx\n",
        "    arr[i],arr[min_indx]=arr[min_indx],arr[i]\n",
        "    return arr\n",
        "\n",
        "##Driver code\n",
        "arr = [50,38,75,29,11,17,20,37]\n",
        "result = selectionSort(arr)\n",
        "print(result)"
      ],
      "metadata": {
        "colab": {
          "base_uri": "https://localhost:8080/"
        },
        "id": "4Xmuh2Nba3Jv",
        "outputId": "c013aa54-7791-4118-d002-6ccc63ddc810"
      },
      "execution_count": null,
      "outputs": [
        {
          "output_type": "stream",
          "name": "stdout",
          "text": [
            "[11, 38, 75, 29, 50, 17, 20, 37]\n"
          ]
        }
      ]
    },
    {
      "cell_type": "markdown",
      "source": [
        "**Implementation of Insertion Sort**"
      ],
      "metadata": {
        "id": "F36JgnzYfDqT"
      }
    },
    {
      "cell_type": "code",
      "source": [
        "def insertionSort(arr):\n",
        "  for i in range(1,len(arr)):\n",
        "    key = arr[i]\n",
        "    j = i-1\n",
        "\n",
        "    while j>=0 and key<arr[j]:\n",
        "      arr[j+1] = arr[j]\n",
        "      j=j-1\n",
        "    arr[j+1]=key\n",
        "  return arr\n",
        "\n",
        "\n",
        "\n",
        "\n",
        "##Driver code\n",
        "arr = [9,5,1,4,3]\n",
        "result = insertionSort(arr)\n",
        "print(result)"
      ],
      "metadata": {
        "colab": {
          "base_uri": "https://localhost:8080/"
        },
        "id": "PfKgni1nbvyp",
        "outputId": "bd7e7876-bc91-4e41-8e40-4d384904aaf3"
      },
      "execution_count": null,
      "outputs": [
        {
          "output_type": "stream",
          "name": "stdout",
          "text": [
            "[1, 3, 4, 5, 9]\n"
          ]
        }
      ]
    }
  ]
}