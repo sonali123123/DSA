{
  "nbformat": 4,
  "nbformat_minor": 0,
  "metadata": {
    "colab": {
      "provenance": []
    },
    "kernelspec": {
      "name": "python3",
      "display_name": "Python 3"
    },
    "language_info": {
      "name": "python"
    }
  },
  "cells": [
    {
      "cell_type": "code",
      "execution_count": 5,
      "metadata": {
        "colab": {
          "base_uri": "https://localhost:8080/"
        },
        "id": "oMGbGuQow1LU",
        "outputId": "ddfdac83-704c-4775-f744-507fdb4a7ccc"
      },
      "outputs": [
        {
          "output_type": "stream",
          "name": "stdout",
          "text": [
            "The maximum profit of buy and sell the stock is:  19\n"
          ]
        }
      ],
      "source": [
        "# Time Complexity is O(n)\n",
        "# Space Complexity is O(1)\n",
        "\n",
        "def findmaxProfit(prices):\n",
        "  min_price = float('inf')\n",
        "  max_profit = 0\n",
        "\n",
        "  for i in range(len(prices)):\n",
        "    if prices[i]<min_price:\n",
        "      min_price = prices[i]\n",
        "    elif prices[i] - min_price > max_profit:\n",
        "      max_profit = prices[i] - min_price\n",
        "  return max_profit\n",
        "\n",
        "\n",
        "\n",
        "## Driver Code\n",
        "prices = [7,1,3,6,4,15,20]\n",
        "## function calling\n",
        "maxProfit = findmaxProfit(prices)\n",
        "print(\"The maximum profit of buy and sell the stock is: \", maxProfit)"
      ]
    },
    {
      "cell_type": "code",
      "source": [
        "## Collinear Points Check\n",
        "\n",
        "## Using Slope Concept\n",
        "## Time Complexity is O(1)\n",
        "## Space Complexity is O(1)\n",
        "\n",
        "def isCollinear(x1,x2,x3,y1,y2,y3):\n",
        "  if ((y2-y1)*(x3-x2) == (y3-y2)*(x2-x1)):\n",
        "    print(\"Given points are collinear\")\n",
        "  else:\n",
        "    print(\"Points are not collinear\")\n",
        "\n",
        "\n",
        "\n",
        "\n",
        "## Driver Code\n",
        "x1,x2,x3,y1,y2,y3 = 1,1,1,6,0,9\n",
        "isCollinear(x1,x2,x3,y1,y2,y3)"
      ],
      "metadata": {
        "colab": {
          "base_uri": "https://localhost:8080/"
        },
        "id": "_bqog_sSyCI9",
        "outputId": "adf2fd3e-6f27-46a1-b534-bf53edb175a1"
      },
      "execution_count": 8,
      "outputs": [
        {
          "output_type": "stream",
          "name": "stdout",
          "text": [
            "Given points are collinear\n"
          ]
        }
      ]
    },
    {
      "cell_type": "code",
      "source": [
        "## Another approach to find collinear points using Area of triangle\n",
        "## Time Complexity : O(1)\n",
        "## Space Complexity : O(1)\n",
        "\n",
        "def isCollinear(x1,x2,x3,y1,y2,y3):\n",
        "  area = 0.5*(x1*(y2-y3)+x2*(y3-y1)+x3*(y1-y2))\n",
        "  if area == 0:\n",
        "    print(\"Points are collinear\")\n",
        "  else:\n",
        "    print(\"Points are not collinear\")\n",
        "\n",
        "\n",
        "\n",
        "\n",
        "## Driver Code\n",
        "x1,x2,x3,y1,y2,y3 = 1,1,1,6,0,9\n",
        "isCollinear(x1,x2,x3,y1,y2,y3)"
      ],
      "metadata": {
        "colab": {
          "base_uri": "https://localhost:8080/"
        },
        "id": "5izT-TnuzrSq",
        "outputId": "6f6355b6-7bb6-4a36-813c-795fe1134772"
      },
      "execution_count": 9,
      "outputs": [
        {
          "output_type": "stream",
          "name": "stdout",
          "text": [
            "Points are collinear\n"
          ]
        }
      ]
    },
    {
      "cell_type": "code",
      "source": [
        "## Majority element Count\n",
        "\n",
        "## Approach : Dictionary Data Structure\n",
        "## Time Complexity : O(n)\n",
        "## Space Complexity : O(n)\n",
        "\n",
        "from collections import Counter\n",
        "def maj_elem(nums):\n",
        "  counts = Counter(nums)\n",
        "  print(counts)\n",
        "  return max(counts.keys(),key = counts.get)\n",
        "\n",
        "\n",
        "## Driver code\n",
        "nums = [2,2,1,1,1,2,2]\n",
        "result = maj_elem(nums)\n",
        "print(result)"
      ],
      "metadata": {
        "colab": {
          "base_uri": "https://localhost:8080/"
        },
        "id": "KKCt4qZ401QL",
        "outputId": "8378c01c-fe42-44c4-8cae-0d1186151813"
      },
      "execution_count": 10,
      "outputs": [
        {
          "output_type": "stream",
          "name": "stdout",
          "text": [
            "Counter({2: 4, 1: 3})\n",
            "2\n"
          ]
        }
      ]
    },
    {
      "cell_type": "code",
      "source": [
        "## Sort Colours using Two pointer\n",
        "## Time Complexity : O(n)\n",
        "## Space Complexity ; O(1)\n",
        "\n",
        "def sortColours(nums):\n",
        "  p0 = curr = 0\n",
        "  p2 = len(nums) - 1\n",
        "\n",
        "  while curr<=p2:\n",
        "    if nums[curr] == 0:\n",
        "      ## swap nums[curr] and num[p0]\n",
        "      nums[p0], nums[curr] = nums[curr], nums[0]\n",
        "      p0 += 1\n",
        "      curr += 1\n",
        "    elif nums[curr] == 2:\n",
        "      ## swap num[curr] and nums[p2]\n",
        "      nums[p2], nums[curr] = nums[curr] , nums[p2]\n",
        "      p2-=1\n",
        "    else:\n",
        "      curr += 1\n",
        "  return nums\n",
        "\n",
        "## Driver Code\n",
        "nums = [2,0,2,1,1,0]\n",
        "result = sortColours(nums)\n",
        "print(result)"
      ],
      "metadata": {
        "colab": {
          "base_uri": "https://localhost:8080/"
        },
        "id": "eXLzB_Jd3h5Q",
        "outputId": "6d0675e5-063c-4fae-c67d-ebb03a0f2fcc"
      },
      "execution_count": 12,
      "outputs": [
        {
          "output_type": "stream",
          "name": "stdout",
          "text": [
            "[0, 0, 1, 1, 2, 2]\n"
          ]
        }
      ]
    },
    {
      "cell_type": "code",
      "source": [],
      "metadata": {
        "id": "vgdLjmr06Im8"
      },
      "execution_count": null,
      "outputs": []
    }
  ]
}