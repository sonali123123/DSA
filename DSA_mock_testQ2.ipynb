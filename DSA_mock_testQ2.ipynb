{
  "nbformat": 4,
  "nbformat_minor": 0,
  "metadata": {
    "colab": {
      "provenance": []
    },
    "kernelspec": {
      "name": "python3",
      "display_name": "Python 3"
    },
    "language_info": {
      "name": "python"
    }
  },
  "cells": [
    {
      "cell_type": "code",
      "execution_count": null,
      "metadata": {
        "id": "_1u3f2-iXtTg"
      },
      "outputs": [],
      "source": [
        "## Implement a stack using a list in Python. Include the necessary methods such as push, pop, and isEmpty.\n",
        "\n",
        "\n",
        "class Queue:\n",
        "    def __init__(self):\n",
        "        self.items = []\n",
        "\n",
        "    def enqueue(self, item):\n",
        "        self.items.append(item)\n",
        "\n",
        "    def dequeue(self):\n",
        "        if not self.is_empty():\n",
        "            return self.items.pop(0)\n",
        "        else:\n",
        "            raise IndexError(\"Queue is empty. Cannot dequeue an element.\")\n",
        "\n",
        "    def is_empty(self):\n",
        "        return len(self.items) == 0"
      ]
    }
  ]
}