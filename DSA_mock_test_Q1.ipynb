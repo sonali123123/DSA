{
  "nbformat": 4,
  "nbformat_minor": 0,
  "metadata": {
    "colab": {
      "provenance": []
    },
    "kernelspec": {
      "name": "python3",
      "display_name": "Python 3"
    },
    "language_info": {
      "name": "python"
    }
  },
  "cells": [
    {
      "cell_type": "code",
      "source": [
        "## Implement a stack using a list in Python. Include the necessary methods such as push, pop, and isEmpty.\n",
        "\n",
        "class Stack:\n",
        "    def __init__(self):\n",
        "        self.items = []\n",
        "\n",
        "    def push(self, item):\n",
        "        self.items.append(item)\n",
        "\n",
        "    def pop(self):\n",
        "        if not self.is_empty():\n",
        "            return self.items.pop()\n",
        "        else:\n",
        "            raise IndexError(\"Stack is empty. Cannot pop an element.\")\n",
        "\n",
        "    def is_empty(self):\n",
        "        return len(self.items) == 0\n"
      ],
      "metadata": {
        "id": "KFnqKH-dqTfz"
      },
      "execution_count": 1,
      "outputs": []
    }
  ]
}